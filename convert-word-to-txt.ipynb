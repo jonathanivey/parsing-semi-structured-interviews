{
 "cells": [
  {
   "cell_type": "code",
   "execution_count": 4,
   "metadata": {},
   "outputs": [],
   "source": [
    "import pypandoc\n",
    "import os"
   ]
  },
  {
   "cell_type": "code",
   "execution_count": 10,
   "metadata": {},
   "outputs": [],
   "source": [
    "# convert all of the interview 1 files into text files\n",
    "for i in range(25):\n",
    "    docxFilename = 'Interview 1\\P' + str(i + 1) + ' Interview.docx'\n",
    "    txtFilename = 'Interview 1\\P' + str(i + 1) + ' Interview.txt'\n",
    "    output = pypandoc.convert_file(docxFilename, 'plain', outputfile=txtFilename)\n",
    "    assert output == \"\""
   ]
  },
  {
   "cell_type": "code",
   "execution_count": null,
   "metadata": {},
   "outputs": [],
   "source": [
    "# convert all of the interview 2 files into text files\n",
    "for i in range(25):\n",
    "    docxFilename = 'Interview 2\\P' + str(i + 1) + ' Interview.docx'\n",
    "    txtFilename = 'Interview 2\\P' + str(i + 1) + ' Interview.txt'\n",
    "    output = pypandoc.convert_file(docxFilename, 'plain', outputfile=txtFilename)\n",
    "    assert output == \"\""
   ]
  }
 ],
 "metadata": {
  "kernelspec": {
   "display_name": "base",
   "language": "python",
   "name": "python3"
  },
  "language_info": {
   "codemirror_mode": {
    "name": "ipython",
    "version": 3
   },
   "file_extension": ".py",
   "mimetype": "text/x-python",
   "name": "python",
   "nbconvert_exporter": "python",
   "pygments_lexer": "ipython3",
   "version": "3.9.12"
  },
  "orig_nbformat": 4
 },
 "nbformat": 4,
 "nbformat_minor": 2
}
